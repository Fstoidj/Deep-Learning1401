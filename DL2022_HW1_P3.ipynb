{
  "cells": [
    {
      "cell_type": "markdown",
      "metadata": {
        "deletable": false,
        "editable": false,
        "heading_collapsed": true,
        "run_control": {
          "frozen": true
        },
        "id": "0MNOo8CRcdhs"
      },
      "source": [
        "# Deep Learning"
      ]
    },
    {
      "cell_type": "markdown",
      "metadata": {
        "deletable": false,
        "editable": false,
        "heading_collapsed": true,
        "hidden": true,
        "run_control": {
          "frozen": true
        },
        "id": "cxBdLe5wcdh7"
      },
      "source": [
        "## HW1- Problem 3 - Regression (100 pts)"
      ]
    },
    {
      "cell_type": "markdown",
      "metadata": {
        "heading_collapsed": true,
        "hidden": true,
        "id": "wFVFtR4Xcdh-"
      },
      "source": [
        "### Please fill this part\n",
        "\n",
        "\n",
        "1.   Full Name: Dariush Ghaemi\n",
        "2.   Student Number: 98109678\n",
        "\n",
        "\n",
        "*You are just allowded to change those parts that start with \"TO DO\". Please do not change other parts.*\n",
        "\n",
        "*It is highly recommended to read each codeline carefully and try to understand what it exactly does. Best of luck and have fun!*"
      ]
    },
    {
      "cell_type": "code",
      "execution_count": null,
      "metadata": {
        "hidden": true,
        "id": "_x-7ZsBIcdiB"
      },
      "outputs": [],
      "source": [
        "# You are not allowed to import other packages.\n",
        "\n",
        "import numpy as np\n",
        "import pandas as pd\n",
        "\n",
        "from matplotlib import pyplot as plt\n",
        "from sklearn.metrics import mean_squared_error"
      ]
    },
    {
      "cell_type": "markdown",
      "metadata": {
        "deletable": false,
        "editable": false,
        "heading_collapsed": true,
        "hidden": true,
        "run_control": {
          "frozen": true
        },
        "id": "TGXzs9pMcdiF"
      },
      "source": [
        "### Part1:\n",
        "Consider the dataset which has been given to you. Split the dataset into the `training dataset` and `test dataset`. You can use `80%` of the data for training and the rest for testing."
      ]
    },
    {
      "cell_type": "code",
      "execution_count": null,
      "metadata": {
        "hidden": true,
        "colab": {
          "base_uri": "https://localhost:8080/"
        },
        "id": "BijGIorQcdiH",
        "outputId": "24bcdf2f-2aa7-4b53-97ba-f6158f11fe76"
      },
      "outputs": [
        {
          "output_type": "stream",
          "name": "stdout",
          "text": [
            "Drive already mounted at /media/gdrive; to attempt to forcibly remount, call drive.mount(\"/media/gdrive\", force_remount=True).\n",
            "(400,)\n",
            "(100,)\n"
          ]
        }
      ],
      "source": [
        "dataset = pd.read_csv(\"./data/data01.csv\")\n",
        "\n",
        "# implement the split part\n",
        "# name them: x_train, x_test, y_train, y_test\n",
        "X=dataset['X']\n",
        "Y=dataset['Y']\n",
        "t_percent=0.8\n",
        "n=len(X)\n",
        "n_s=int(t_percent*n)\n",
        "\n",
        "x_train = X[:n_s]\n",
        "y_train = Y[:n_s]\n",
        "\n",
        "x_test = X[n_s:]\n",
        "y_test = Y[n_s:]\n",
        "\n",
        "print(x_train.shape)\n",
        "print(x_test.shape)"
      ]
    },
    {
      "cell_type": "markdown",
      "metadata": {
        "deletable": false,
        "editable": false,
        "heading_collapsed": true,
        "hidden": true,
        "run_control": {
          "frozen": true
        },
        "id": "6Sx5taVwcdiJ"
      },
      "source": [
        "### Part2:\n",
        "Assume there is simple linear relationship between X and Y. Train a simple `Linear Regression` on the training dataset and report its accuracy on the training and testing dataset, separately."
      ]
    },
    {
      "cell_type": "code",
      "execution_count": null,
      "metadata": {
        "hidden": true,
        "colab": {
          "base_uri": "https://localhost:8080/"
        },
        "id": "m5v6QLMAcdiL",
        "outputId": "18c146b0-d270-459f-b76c-a81972490bb5"
      },
      "outputs": [
        {
          "output_type": "stream",
          "name": "stdout",
          "text": [
            "[-0.41544332  0.        ]\n"
          ]
        }
      ],
      "source": [
        "# here you can implement via sgd or use least square solution. we suggest the second one inv(A^T A) * A^T y.\n",
        "# consider m as the returned line --> m[0] = the slope , m[1] = y intercept, also don't forget to use numpy for calculating m.\n",
        "x_trainp=np.zeros((len(x_train), 2))\n",
        "x_trainp[:, 0]=x_train.copy()\n",
        "m = np.matmul(np.matmul(np.linalg.pinv(np.matmul(x_trainp, x_trainp.T)), x_trainp).T, y_train)\n",
        "print(m)"
      ]
    },
    {
      "cell_type": "code",
      "execution_count": null,
      "metadata": {
        "hidden": true,
        "colab": {
          "base_uri": "https://localhost:8080/"
        },
        "id": "vlBIlUD4cdiN",
        "outputId": "f2de1fad-d449-4a24-8d27-2a9a081ce6a2"
      },
      "outputs": [
        {
          "output_type": "stream",
          "name": "stdout",
          "text": [
            "MSE train error: 0.49399991051222386\n",
            "MSE test error: 0.5187262351385592\n"
          ]
        }
      ],
      "source": [
        "predicted_train_y = m[0] * x_train + m[1]\n",
        "predicted_test_y = m[0] * x_test + m[1]\n",
        "\n",
        "train_error = mean_squared_error(predicted_train_y, y_train)\n",
        "test_error = mean_squared_error(predicted_test_y, y_test)\n",
        "\n",
        "print(f\"MSE train error: {train_error}\\nMSE test error: {test_error}\")"
      ]
    },
    {
      "cell_type": "markdown",
      "metadata": {
        "deletable": false,
        "editable": false,
        "heading_collapsed": true,
        "hidden": true,
        "run_control": {
          "frozen": true
        },
        "id": "lYAYZMTicdiP"
      },
      "source": [
        "### Part3:\n",
        "Draw the line you've found in the last part, on train and test points (each separately)."
      ]
    },
    {
      "cell_type": "code",
      "execution_count": null,
      "metadata": {
        "hidden": true,
        "colab": {
          "base_uri": "https://localhost:8080/",
          "height": 298
        },
        "id": "COgybRTWcdiR",
        "outputId": "8920ef2a-acbe-477f-d612-0ceff91331aa"
      },
      "outputs": [
        {
          "output_type": "execute_result",
          "data": {
            "text/plain": [
              "Text(0.5, 1.0, 'Train dataset')"
            ]
          },
          "metadata": {},
          "execution_count": 62
        },
        {
          "output_type": "display_data",
          "data": {
            "text/plain": [
              "<Figure size 432x288 with 1 Axes>"
            ],
            "image/png": "[encoded data removed]"
          },
          "metadata": {
            "needs_background": "light"
          }
        }
      ],
      "source": [
        "plt.scatter(x_train, y_train)\n",
        "plt.scatter(x_train, m[0]*x_train + m[1], s=1)\n",
        "plt.title(\"Train dataset\")"
      ]
    },
    {
      "cell_type": "code",
      "execution_count": null,
      "metadata": {
        "hidden": true,
        "colab": {
          "base_uri": "https://localhost:8080/",
          "height": 298
        },
        "id": "Pmsz8nIocdiT",
        "outputId": "c07fe2df-fb0f-444d-8e2b-8587ff173965"
      },
      "outputs": [
        {
          "output_type": "execute_result",
          "data": {
            "text/plain": [
              "Text(0.5, 1.0, 'Test dataset')"
            ]
          },
          "metadata": {},
          "execution_count": 63
        },
        {
          "output_type": "display_data",
          "data": {
            "text/plain": [
              "<Figure size 432x288 with 1 Axes>"
            ],
            "image/png": "[encoded data removed]"
          },
          "metadata": {
            "needs_background": "light"
          }
        }
      ],
      "source": [
        "plt.scatter(x_test, y_test)\n",
        "plt.scatter(x_test, m[0]*x_test + m[1], s=1)\n",
        "plt.title(\"Test dataset\")"
      ]
    },
    {
      "cell_type": "markdown",
      "metadata": {
        "deletable": false,
        "editable": false,
        "heading_collapsed": true,
        "hidden": true,
        "run_control": {
          "frozen": true
        },
        "id": "X7hSWx3-cdiU"
      },
      "source": [
        "### Part4:\n",
        "Were the reported accuracies acceptable?\n",
        "\n",
        "What about the line you drew in the last part?\n",
        "\n",
        "Was it appropriate for the dataset?\n",
        "<br><br/>\n",
        "Explain what are the main problems here."
      ]
    },
    {
      "cell_type": "markdown",
      "metadata": {
        "hidden": true,
        "id": "ag6fMt8NcdiW"
      },
      "source": [
        "-write here-\n",
        "<div dir=rtl>\n",
        "دقت ها با توجه به نمودار داده ها کمی غیر قابل قبول است\n",
        "\n",
        "بهترین خط به خوبی روند کلی داده ها را نمایش داده\n",
        "و در هر دو نمودار، مشابه عمل کرده است.\n",
        "\n",
        "\n",
        "اما برای تحلیل های مناسب تر با توجه به داده های تست میتوان حدس زد که رابطه ی X و Y از نوع چند جمله ایست و بهتر است با عبارات پیچیده تر بیان شود"
      ]
    },
    {
      "cell_type": "markdown",
      "metadata": {
        "deletable": false,
        "editable": false,
        "heading_collapsed": true,
        "hidden": true,
        "run_control": {
          "frozen": true
        },
        "id": "CY06W4mzcdiX"
      },
      "source": [
        "### Part5:\n",
        "Now, consider the `Locally Weighted Linear Regression` approach for this problem. Do expect it performs better than simple `Linear Regression` for this dataset?"
      ]
    },
    {
      "cell_type": "markdown",
      "metadata": {
        "hidden": true,
        "id": "hy1uaX45cdiY"
      },
      "source": [
        "-write here-\n",
        "\n",
        "<div dir=rtl>\n",
        "\n",
        "همانطور که اشاره شد، برای داشتن نتایج بهتر نیز است روابط را به صورت غیرخطی بیان کنیم\n",
        "\n",
        "پس روش بالا نیز اثر کمی در کاهش خطا خواهد داشت."
      ]
    },
    {
      "cell_type": "markdown",
      "metadata": {
        "deletable": false,
        "editable": false,
        "heading_collapsed": true,
        "hidden": true,
        "run_control": {
          "frozen": true
        },
        "id": "Oemi4X8_cdiZ"
      },
      "source": [
        "### Part6:\n",
        "Here, we want to implement the `suggested model`. You can implement any weight function you want, the below implementation is just a sample:\n",
        "<br><br/>\n",
        "\\begin{equation*}\n",
        "    w^{(i)}=exp\\left(-\\frac{(\\mathbf x^{(i)}-\\mathbf x)^\\top(\\mathbf x^{(i)}-\\mathbf x)}{2\\tau^2}\\right)\n",
        "\\end{equation*}"
      ]
    },
    {
      "cell_type": "code",
      "execution_count": null,
      "metadata": {
        "hidden": true,
        "id": "DXEsbozbcdia"
      },
      "outputs": [],
      "source": [
        "def get_weight_matrix(the_query_point, train_dataset, hyperparameter):\n",
        "    l = train_dataset.shape[0]\n",
        "    W = np.mat(np.eye(l))\n",
        "    for i, xi in enumerate(train_dataset):\n",
        "        W[i, i] = np.exp(np.sum((xi - the_query_point).T*(xi - the_query_point)) / (-2 * (hyperparameter **2) ))\n",
        "    return W"
      ]
    },
    {
      "cell_type": "markdown",
      "metadata": {
        "deletable": false,
        "editable": false,
        "hidden": true,
        "run_control": {
          "frozen": true
        },
        "id": "OJVkHCEjcdib"
      },
      "source": [
        "Now implement the `closed form solution` based on the following formula:\n",
        "<br><br/>\n",
        "\\begin{equation*}\n",
        "    \\boldsymbol\\theta=(X^\\top WX)^{-1}(X^\\top WY)\n",
        "\\end{equation*}\n",
        "<br><br/>\n",
        "Of course if you use another form, implement your own."
      ]
    },
    {
      "cell_type": "code",
      "execution_count": null,
      "metadata": {
        "hidden": true,
        "id": "ztS_F5Hzcdic"
      },
      "outputs": [],
      "source": [
        "def predict(train_X, train_Y, query_x, hyperparameter):\n",
        "    l = train_X.shape[0]\n",
        "    X=np.ones((l, 2))\n",
        "    X[:, 0] = train_X\n",
        "    qx = np.mat([query_x, 1])\n",
        "    W = get_weight_matrix(qx, X, hyperparameter)\n",
        "    theta = np.linalg.pinv(X.T*W @ X) @ X.T*W @ train_Y\n",
        "    return np.dot(qx, theta)"
      ]
    },
    {
      "cell_type": "markdown",
      "metadata": {
        "deletable": false,
        "editable": false,
        "heading_collapsed": true,
        "hidden": true,
        "run_control": {
          "frozen": true
        },
        "id": "qNqr8BJJcdie"
      },
      "source": [
        "### Part7:\n",
        "Report accuracy of this model on the test dataset. Also, draw a plot that contains (x_test, y_test) pairs and (x_test, predicted_y) pairs that differ in color."
      ]
    },
    {
      "cell_type": "code",
      "execution_count": null,
      "metadata": {
        "hidden": true,
        "colab": {
          "base_uri": "https://localhost:8080/"
        },
        "id": "b8QUbSSQcdif",
        "outputId": "253eba24-33af-49fd-b28c-47bb021f9aef"
      },
      "outputs": [
        {
          "output_type": "stream",
          "name": "stdout",
          "text": [
            "MSE test error: 0.34911555666279787\n"
          ]
        }
      ],
      "source": [
        "predicted_test = [predict(x_train, y_train, query, hyperparameter=1) for query in x_test]\n",
        "predicted_test=np.array(predicted_test)\n",
        "predicted_test= predicted_test.reshape(len(x_test))\n",
        "error = mean_squared_error(predicted_test, y_test)\n",
        "\n",
        "print(f\"MSE test error: {error}\")"
      ]
    },
    {
      "cell_type": "code",
      "execution_count": null,
      "metadata": {
        "hidden": true,
        "colab": {
          "base_uri": "https://localhost:8080/",
          "height": 283
        },
        "id": "fUKeemHBcdig",
        "outputId": "d892b144-8cde-4f91-d599-053dd6d34582"
      },
      "outputs": [
        {
          "output_type": "execute_result",
          "data": {
            "text/plain": [
              "<matplotlib.collections.PathCollection at 0x7f0ece85c8d0>"
            ]
          },
          "metadata": {},
          "execution_count": 126
        },
        {
          "output_type": "display_data",
          "data": {
            "text/plain": [
              "<Figure size 432x288 with 1 Axes>"
            ],
            "image/png": "[encoded data removed]"
          },
          "metadata": {
            "needs_background": "light"
          }
        }
      ],
      "source": [
        "plt.scatter(x_test, y_test, c=\"blue\")\n",
        "plt.scatter(x_test, predicted_test, c=\"yellow\")"
      ]
    },
    {
      "cell_type": "markdown",
      "metadata": {
        "deletable": false,
        "editable": false,
        "heading_collapsed": true,
        "hidden": true,
        "run_control": {
          "frozen": true
        },
        "id": "jmPc45mccdih"
      },
      "source": [
        "### Part8:\n",
        "Is the performance of the new model better than the previous one? `Explain`."
      ]
    },
    {
      "cell_type": "markdown",
      "metadata": {
        "hidden": true,
        "id": "mQXo8ldYcdii"
      },
      "source": [
        "-write here-\n",
        "<div dir=rtl>\n",
        "\n",
        "نسبت به حالت قبلی بهتر عمل کرده است به دلیل آنکه، به هر بعد وزن مربوط به خودش را داده و طوری تنظیم کرده تا بهتر بتواند خطا را کم کند.\n",
        " \n",
        "\n",
        " در نتیجه خط کمی بالا تر و کج تر قرار گرفته تا خطای مورد نظر مینیمم شود."
      ]
    },
    {
      "cell_type": "markdown",
      "metadata": {
        "deletable": false,
        "editable": false,
        "heading_collapsed": true,
        "hidden": true,
        "run_control": {
          "frozen": true
        },
        "id": "Nl7SveKFcdii"
      },
      "source": [
        "### Part9:\n",
        "Now, we want to consider the `KNN` approach for this problem; Do you think it will perform well?"
      ]
    },
    {
      "cell_type": "markdown",
      "metadata": {
        "hidden": true,
        "id": "0GWlUQqNcdij"
      },
      "source": [
        "-write here-\n",
        "\n",
        "<div dir=rtl>\n",
        "\n",
        "چون داده های تست و ترین بسیار مشابه اند، اگر داده های زیادی را به عنوان همسایه در نظر بگیریم پاسخ خوبی دریافت خواهیم کرد.\n",
        "چون knn میتواند پاسخ های غیر خطی نیز به ما بدهد"
      ]
    },
    {
      "cell_type": "markdown",
      "metadata": {
        "deletable": false,
        "editable": false,
        "heading_collapsed": true,
        "hidden": true,
        "run_control": {
          "frozen": true
        },
        "id": "kyMSDv5Tcdik"
      },
      "source": [
        "### Part10:\n",
        "Implementing the `KNN model`."
      ]
    },
    {
      "cell_type": "code",
      "execution_count": null,
      "metadata": {
        "hidden": true,
        "id": "u-sXLqIOcdil"
      },
      "outputs": [],
      "source": [
        "class KNN:\n",
        "    def __init__(self, number_neighbours, X, Y):\n",
        "        self.k = number_neighbours\n",
        "        self.X = X\n",
        "        self.Y = Y\n",
        "\n",
        "    def distance(self, x1, x2):\n",
        "        distance =(x1-x2)*(x1-x2)# implement the distance function\n",
        "        return distance\n",
        "\n",
        "    def return_nn_ids(self, x):\n",
        "        dx=self.distance(self.X, x)\n",
        "        indices = np.argsort(dx)[::-1][self.k:] # find indices of k nearest neighbours to x  dx.argsort()[:self.k][::-1]\n",
        "        return indices\n",
        "\n",
        "    def predict(self, x):\n",
        "        neareest_indices = self.return_nn_ids(x)\n",
        "        predicted_y = np.mean(self.Y[neareest_indices])\n",
        "        return predicted_y"
      ]
    },
    {
      "cell_type": "code",
      "execution_count": null,
      "metadata": {
        "hidden": true,
        "id": "_JVZTW4Tcdil"
      },
      "outputs": [],
      "source": [
        "def evaluation(k, x_train, y_train, x_test, y_test):\n",
        "    model = KNN(k, x_train, y_train)\n",
        "    predicted_y = [model.predict(x) for x in x_test]\n",
        "    error = mean_squared_error(predicted_y, y_test)\n",
        "    return error, predicted_y"
      ]
    },
    {
      "cell_type": "code",
      "execution_count": null,
      "metadata": {
        "hidden": true,
        "colab": {
          "base_uri": "https://localhost:8080/"
        },
        "id": "3qlFJG9ocdim",
        "outputId": "5e04968c-6f24-4662-cfa8-9710b3bc82e0"
      },
      "outputs": [
        {
          "output_type": "stream",
          "name": "stdout",
          "text": [
            "MSE error of KNN (k= 320 ) for test dataset:  {0.13469795967634346}\n",
            "MSE error of KNN (k= 321 ) for test dataset:  {0.1334241707260545}\n",
            "MSE error of KNN (k= 322 ) for test dataset:  {0.13186560630588273}\n",
            "MSE error of KNN (k= 323 ) for test dataset:  {0.13105450455183976}\n",
            "MSE error of KNN (k= 324 ) for test dataset:  {0.1289395212571169}\n",
            "MSE error of KNN (k= 325 ) for test dataset:  {0.12891186492016}\n",
            "MSE error of KNN (k= 326 ) for test dataset:  {0.12692850153773563}\n",
            "MSE error of KNN (k= 327 ) for test dataset:  {0.12511791632500086}\n",
            "MSE error of KNN (k= 328 ) for test dataset:  {0.1237980153718218}\n",
            "MSE error of KNN (k= 329 ) for test dataset:  {0.12298954981534212}\n",
            "MSE error of KNN (k= 330 ) for test dataset:  {0.12134349563833409}\n",
            "MSE error of KNN (k= 331 ) for test dataset:  {0.12034087332741582}\n",
            "MSE error of KNN (k= 332 ) for test dataset:  {0.1202585513824992}\n",
            "MSE error of KNN (k= 333 ) for test dataset:  {0.11778691159809394}\n",
            "MSE error of KNN (k= 334 ) for test dataset:  {0.11706877357594125}\n",
            "MSE error of KNN (k= 335 ) for test dataset:  {0.11604340370163044}\n",
            "MSE error of KNN (k= 336 ) for test dataset:  {0.11435310349428333}\n",
            "MSE error of KNN (k= 337 ) for test dataset:  {0.11291167362692293}\n",
            "MSE error of KNN (k= 338 ) for test dataset:  {0.11252246383410856}\n",
            "MSE error of KNN (k= 339 ) for test dataset:  {0.11193414723459696}\n",
            "MSE error of KNN (k= 340 ) for test dataset:  {0.1115930790740352}\n",
            "MSE error of KNN (k= 341 ) for test dataset:  {0.11072725279828305}\n",
            "MSE error of KNN (k= 342 ) for test dataset:  {0.10969930011303315}\n",
            "MSE error of KNN (k= 343 ) for test dataset:  {0.10862598924021784}\n",
            "MSE error of KNN (k= 344 ) for test dataset:  {0.10826566374503238}\n",
            "MSE error of KNN (k= 345 ) for test dataset:  {0.1075765651802125}\n",
            "MSE error of KNN (k= 346 ) for test dataset:  {0.10644845224782222}\n",
            "MSE error of KNN (k= 347 ) for test dataset:  {0.10592910429860572}\n",
            "MSE error of KNN (k= 348 ) for test dataset:  {0.1042650532814566}\n",
            "MSE error of KNN (k= 349 ) for test dataset:  {0.10456151934971222}\n",
            "MSE error of KNN (k= 350 ) for test dataset:  {0.10434760348074568}\n",
            "MSE error of KNN (k= 351 ) for test dataset:  {0.10453938324949245}\n",
            "MSE error of KNN (k= 352 ) for test dataset:  {0.10307555539425808}\n",
            "MSE error of KNN (k= 353 ) for test dataset:  {0.10312870120400269}\n",
            "MSE error of KNN (k= 354 ) for test dataset:  {0.10297276645523493}\n",
            "MSE error of KNN (k= 355 ) for test dataset:  {0.10348226326242953}\n",
            "MSE error of KNN (k= 356 ) for test dataset:  {0.10285035661167226}\n",
            "MSE error of KNN (k= 357 ) for test dataset:  {0.1030500225105287}\n",
            "MSE error of KNN (k= 358 ) for test dataset:  {0.10153776239014478}\n",
            "MSE error of KNN (k= 359 ) for test dataset:  {0.10126255776705927}\n",
            "MSE error of KNN (k= 360 ) for test dataset:  {0.10089006757483152}\n",
            "MSE error of KNN (k= 361 ) for test dataset:  {0.10139363485513687}\n",
            "MSE error of KNN (k= 362 ) for test dataset:  {0.10127435258263848}\n",
            "MSE error of KNN (k= 363 ) for test dataset:  {0.10011380522660888}\n",
            "MSE error of KNN (k= 364 ) for test dataset:  {0.09897908378028478}\n",
            "MSE error of KNN (k= 365 ) for test dataset:  {0.09996142687991848}\n",
            "MSE error of KNN (k= 366 ) for test dataset:  {0.09976204034517805}\n",
            "MSE error of KNN (k= 367 ) for test dataset:  {0.09912240162306}\n",
            "MSE error of KNN (k= 368 ) for test dataset:  {0.09884633681319968}\n",
            "MSE error of KNN (k= 369 ) for test dataset:  {0.09825840296638953}\n",
            "MSE error of KNN (k= 370 ) for test dataset:  {0.09717571174237097}\n",
            "MSE error of KNN (k= 371 ) for test dataset:  {0.09807052814693558}\n",
            "MSE error of KNN (k= 372 ) for test dataset:  {0.09794227552485411}\n",
            "MSE error of KNN (k= 373 ) for test dataset:  {0.09732184916572778}\n",
            "MSE error of KNN (k= 374 ) for test dataset:  {0.09793469827961442}\n",
            "MSE error of KNN (k= 375 ) for test dataset:  {0.09763330933951334}\n",
            "MSE error of KNN (k= 376 ) for test dataset:  {0.09694732242948934}\n",
            "MSE error of KNN (k= 377 ) for test dataset:  {0.09697548387094206}\n",
            "MSE error of KNN (k= 378 ) for test dataset:  {0.09720541965177615}\n",
            "MSE error of KNN (k= 379 ) for test dataset:  {0.09902978208216412}\n",
            "MSE error of KNN (k= 380 ) for test dataset:  {0.09727283582096545}\n",
            "MSE error of KNN (k= 381 ) for test dataset:  {0.09687363389746836}\n",
            "MSE error of KNN (k= 382 ) for test dataset:  {0.09821774806132783}\n",
            "MSE error of KNN (k= 383 ) for test dataset:  {0.09972251278168132}\n",
            "MSE error of KNN (k= 384 ) for test dataset:  {0.09837610676149099}\n",
            "MSE error of KNN (k= 385 ) for test dataset:  {0.09964340087526026}\n",
            "MSE error of KNN (k= 386 ) for test dataset:  {0.09985254443069437}\n",
            "MSE error of KNN (k= 387 ) for test dataset:  {0.09923020173981989}\n",
            "MSE error of KNN (k= 388 ) for test dataset:  {0.09909696798348472}\n",
            "MSE error of KNN (k= 389 ) for test dataset:  {0.09852966975713562}\n",
            "MSE error of KNN (k= 390 ) for test dataset:  {0.1001847288363824}\n",
            "MSE error of KNN (k= 391 ) for test dataset:  {0.09990998014821839}\n",
            "MSE error of KNN (k= 392 ) for test dataset:  {0.09781301483813876}\n",
            "MSE error of KNN (k= 393 ) for test dataset:  {0.09709612739392581}\n",
            "MSE error of KNN (k= 394 ) for test dataset:  {0.10066624275213659}\n",
            "MSE error of KNN (k= 395 ) for test dataset:  {0.10056554154981058}\n",
            "MSE error of KNN (k= 396 ) for test dataset:  {0.09782237685625242}\n",
            "MSE error of KNN (k= 397 ) for test dataset:  {0.1030173331057878}\n",
            "MSE error of KNN (k= 398 ) for test dataset:  {0.11589185662650844}\n",
            "MSE error of KNN (k= 399 ) for test dataset:  {0.14793854960365135}\n"
          ]
        }
      ],
      "source": [
        "E=1\n",
        "for k in range(320, 400):\n",
        "  error_knn, predicted_y = evaluation(k, x_train, y_train, x_test, y_test)\n",
        "  if(error_knn<E):\n",
        "    E=error_knn\n",
        "    k_o=k\n",
        "  print(f\"MSE error of KNN (k=\", k, \") for test dataset: \", {error_knn})"
      ]
    },
    {
      "cell_type": "code",
      "source": [
        "k=k_o\n",
        "error_knn, predicted_y = evaluation(k, x_train, y_train, x_test, y_test)\n",
        "print(f\"MSE error of KNN (k=\", k, \") for test dataset:\", {error_knn})"
      ],
      "metadata": {
        "colab": {
          "base_uri": "https://localhost:8080/"
        },
        "id": "TwXt-vyJ5wXl",
        "outputId": "f107720e-ef87-45aa-97e8-405ba1a74a43"
      },
      "execution_count": null,
      "outputs": [
        {
          "output_type": "stream",
          "name": "stdout",
          "text": [
            "MSE error of KNN (k= 381 ) for test dataset: {0.09687363389746836}\n"
          ]
        }
      ]
    },
    {
      "cell_type": "code",
      "execution_count": null,
      "metadata": {
        "hidden": true,
        "colab": {
          "base_uri": "https://localhost:8080/",
          "height": 283
        },
        "id": "SiTdhSz_cdin",
        "outputId": "b600ddc4-f0ce-44c4-8131-cad704db9b45"
      },
      "outputs": [
        {
          "output_type": "execute_result",
          "data": {
            "text/plain": [
              "<matplotlib.collections.PathCollection at 0x7f0ecdcde710>"
            ]
          },
          "metadata": {},
          "execution_count": 260
        },
        {
          "output_type": "display_data",
          "data": {
            "text/plain": [
              "<Figure size 432x288 with 1 Axes>"
            ],
            "image/png": "[encoded data removed]"
          },
          "metadata": {
            "needs_background": "light"
          }
        }
      ],
      "source": [
        "plt.scatter(x_test, y_test, c=\"blue\")\n",
        "plt.scatter(x_test, predicted_y, c=\"yellow\")"
      ]
    },
    {
      "cell_type": "markdown",
      "metadata": {
        "deletable": false,
        "editable": false,
        "hidden": true,
        "run_control": {
          "frozen": true
        },
        "id": "VE_nIl1hcdio"
      },
      "source": [
        "To find best K for this algorithm we suggest to use cross-validation.\n",
        "<br><br/>\n",
        "Did this model perform well (due to the plot and test accuracy)?"
      ]
    },
    {
      "cell_type": "markdown",
      "metadata": {
        "hidden": true,
        "id": "5MucIxBCcdip"
      },
      "source": [
        "-write here-\n",
        "<div dir=rtl>\n",
        "\n",
        "\n",
        "\n",
        "برای k های خیلی بزرگ به دلیل آنکه داده های تست و ترین بسیار شباهت دارند، پاسخ غیر خطی بسیار خوبی دریافت میکنیم"
      ]
    }
  ],
  "metadata": {
    "kernelspec": {
      "display_name": "Python 3.7.4 64-bit",
      "language": "python",
      "name": "python3"
    },
    "language_info": {
      "codemirror_mode": {
        "name": "ipython",
        "version": 3
      },
      "file_extension": ".py",
      "mimetype": "text/x-python",
      "name": "python",
      "nbconvert_exporter": "python",
      "pygments_lexer": "ipython3",
      "version": "3.7.4"
    },
    "toc": {
      "base_numbering": 1,
      "nav_menu": {},
      "number_sections": true,
      "sideBar": true,
      "skip_h1_title": false,
      "title_cell": "Table of Contents",
      "title_sidebar": "Contents",
      "toc_cell": false,
      "toc_position": {},
      "toc_section_display": true,
      "toc_window_display": false
    },
    "varInspector": {
      "cols": {
        "lenName": 16,
        "lenType": 16,
        "lenVar": 40
      },
      "kernels_config": {
        "python": {
          "delete_cmd_postfix": "",
          "delete_cmd_prefix": "del ",
          "library": "var_list.py",
          "varRefreshCmd": "print(var_dic_list())"
        },
        "r": {
          "delete_cmd_postfix": ") ",
          "delete_cmd_prefix": "rm(",
          "library": "var_list.r",
          "varRefreshCmd": "cat(var_dic_list()) "
        }
      },
      "types_to_exclude": [
        "module",
        "function",
        "builtin_function_or_method",
        "instance",
        "_Feature"
      ],
      "window_display": false
    },
    "vscode": {
      "interpreter": {
        "hash": "aee8b7b246df8f9039afb4144a1f6fd8d2ca17a180786b69acc140d282b71a49"
      }
    },
    "colab": {
      "provenance": []
    }
  },
  "nbformat": 4,
  "nbformat_minor": 0
}